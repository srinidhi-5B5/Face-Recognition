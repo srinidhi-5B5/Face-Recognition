{
 "cells": [
  {
   "cell_type": "code",
   "execution_count": 1,
   "metadata": {},
   "outputs": [],
   "source": [
    "import cv2\n",
    "\n",
    "#starting video capture\n",
    "cap=cv2.VideoCapture(0) # 0 indicates default camera(opens lapy cam)\n",
    "classifier = cv2.CascadeClassifier(\"harcadclassifier.xml\")\n",
    "\n",
    "while True:\n",
    "    ret,image = cap.read()\n",
    "    if ret:\n",
    "        faces=classifier.detectMultiScale(image)\n",
    "        for face in faces:\n",
    "            x,y,w,h=face\n",
    "            image=cv2.rectangle(image,(x,y),(x+w,y+h),(255,0,0),5)\n",
    "            cv2.imshow(\"My Window\",image)\n",
    "    key = cv2.waitKey(1)\n",
    "    if key == ord('q'):\n",
    "        break\n",
    "    if key == ord('c'):\n",
    "        cv2.imwrite(\"sri.png\",image)\n",
    "cap.release()"
   ]
  },
  {
   "cell_type": "code",
   "execution_count": null,
   "metadata": {},
   "outputs": [],
   "source": []
  }
 ],
 "metadata": {
  "kernelspec": {
   "display_name": "Python 3",
   "language": "python",
   "name": "python3"
  },
  "language_info": {
   "codemirror_mode": {
    "name": "ipython",
    "version": 3
   },
   "file_extension": ".py",
   "mimetype": "text/x-python",
   "name": "python",
   "nbconvert_exporter": "python",
   "pygments_lexer": "ipython3",
   "version": "3.7.4"
  }
 },
 "nbformat": 4,
 "nbformat_minor": 2
}
